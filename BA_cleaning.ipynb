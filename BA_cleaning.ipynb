{
 "cells": [
  {
   "cell_type": "code",
   "execution_count": 1,
   "metadata": {},
   "outputs": [],
   "source": [
    "#imports\n",
    "\n",
    "import pandas as pd\n",
    "import matplotlib.pyplot as plt\n",
    "import seaborn as sns\n",
    "import os\n",
    "\n",
    "#regex\n",
    "import re"
   ]
  },
  {
   "cell_type": "code",
   "execution_count": 2,
   "metadata": {},
   "outputs": [],
   "source": [
    "df = pd.read_csv(\"BA_airways.csv\", index_col=0)"
   ]
  },
  {
   "cell_type": "code",
   "execution_count": 3,
   "metadata": {},
   "outputs": [
    {
     "data": {
      "text/html": [
       "<div>\n",
       "<style scoped>\n",
       "    .dataframe tbody tr th:only-of-type {\n",
       "        vertical-align: middle;\n",
       "    }\n",
       "\n",
       "    .dataframe tbody tr th {\n",
       "        vertical-align: top;\n",
       "    }\n",
       "\n",
       "    .dataframe thead th {\n",
       "        text-align: right;\n",
       "    }\n",
       "</style>\n",
       "<table border=\"1\" class=\"dataframe\">\n",
       "  <thead>\n",
       "    <tr style=\"text-align: right;\">\n",
       "      <th></th>\n",
       "      <th>reviews</th>\n",
       "      <th>stars</th>\n",
       "      <th>date</th>\n",
       "      <th>country</th>\n",
       "    </tr>\n",
       "  </thead>\n",
       "  <tbody>\n",
       "    <tr>\n",
       "      <th>0</th>\n",
       "      <td>Not Verified | Before my flight, I was forced ...</td>\n",
       "      <td>5.0</td>\n",
       "      <td>15th August 2024</td>\n",
       "      <td>United Kingdom</td>\n",
       "    </tr>\n",
       "    <tr>\n",
       "      <th>1</th>\n",
       "      <td>✅ Trip Verified |   British Airways at its bes...</td>\n",
       "      <td>1.0</td>\n",
       "      <td>12th August 2024</td>\n",
       "      <td>United Kingdom</td>\n",
       "    </tr>\n",
       "    <tr>\n",
       "      <th>2</th>\n",
       "      <td>✅ Trip Verified | An excellent flight! Despite...</td>\n",
       "      <td>8.0</td>\n",
       "      <td>12th August 2024</td>\n",
       "      <td>Lebanon</td>\n",
       "    </tr>\n",
       "    <tr>\n",
       "      <th>3</th>\n",
       "      <td>✅ Trip Verified | I recently traveled with Bri...</td>\n",
       "      <td>8.0</td>\n",
       "      <td>11th August 2024</td>\n",
       "      <td>United States</td>\n",
       "    </tr>\n",
       "    <tr>\n",
       "      <th>4</th>\n",
       "      <td>✅ Trip Verified |   My family and I were booke...</td>\n",
       "      <td>3.0</td>\n",
       "      <td>9th August 2024</td>\n",
       "      <td>United Kingdom</td>\n",
       "    </tr>\n",
       "  </tbody>\n",
       "</table>\n",
       "</div>"
      ],
      "text/plain": [
       "                                             reviews  stars              date  \\\n",
       "0  Not Verified | Before my flight, I was forced ...    5.0  15th August 2024   \n",
       "1  ✅ Trip Verified |   British Airways at its bes...    1.0  12th August 2024   \n",
       "2  ✅ Trip Verified | An excellent flight! Despite...    8.0  12th August 2024   \n",
       "3  ✅ Trip Verified | I recently traveled with Bri...    8.0  11th August 2024   \n",
       "4  ✅ Trip Verified |   My family and I were booke...    3.0   9th August 2024   \n",
       "\n",
       "          country  \n",
       "0  United Kingdom  \n",
       "1  United Kingdom  \n",
       "2         Lebanon  \n",
       "3   United States  \n",
       "4  United Kingdom  "
      ]
     },
     "execution_count": 3,
     "metadata": {},
     "output_type": "execute_result"
    }
   ],
   "source": [
    "\n",
    "df.head()"
   ]
  },
  {
   "cell_type": "code",
   "execution_count": 4,
   "metadata": {},
   "outputs": [],
   "source": [
    "df['verified'] = df.reviews.str.contains(\"Trip Verified\")"
   ]
  },
  {
   "cell_type": "code",
   "execution_count": 5,
   "metadata": {},
   "outputs": [
    {
     "data": {
      "text/plain": [
       "0       False\n",
       "1        True\n",
       "2        True\n",
       "3        True\n",
       "4        True\n",
       "        ...  \n",
       "3495    False\n",
       "3496    False\n",
       "3497    False\n",
       "3498    False\n",
       "3499    False\n",
       "Name: verified, Length: 3500, dtype: bool"
      ]
     },
     "execution_count": 5,
     "metadata": {},
     "output_type": "execute_result"
    }
   ],
   "source": [
    "df['verified']"
   ]
  },
  {
   "cell_type": "code",
   "execution_count": 8,
   "metadata": {},
   "outputs": [],
   "source": [
    "import string\n",
    "def remove_punctuations(text):\n",
    "    for punctuation in string.punctuation:\n",
    "        text = text.replace(punctuation, '')\n",
    "    return text"
   ]
  },
  {
   "cell_type": "code",
   "execution_count": 13,
   "metadata": {},
   "outputs": [
    {
     "data": {
      "text/html": [
       "<div>\n",
       "<style scoped>\n",
       "    .dataframe tbody tr th:only-of-type {\n",
       "        vertical-align: middle;\n",
       "    }\n",
       "\n",
       "    .dataframe tbody tr th {\n",
       "        vertical-align: top;\n",
       "    }\n",
       "\n",
       "    .dataframe thead th {\n",
       "        text-align: right;\n",
       "    }\n",
       "</style>\n",
       "<table border=\"1\" class=\"dataframe\">\n",
       "  <thead>\n",
       "    <tr style=\"text-align: right;\">\n",
       "      <th></th>\n",
       "      <th>cleaned_reviews</th>\n",
       "    </tr>\n",
       "  </thead>\n",
       "  <tbody>\n",
       "    <tr>\n",
       "      <th>0</th>\n",
       "      <td>Verified Before flight forced ground staff che...</td>\n",
       "    </tr>\n",
       "    <tr>\n",
       "      <th>1</th>\n",
       "      <td>British Airways best Outstanding service from ...</td>\n",
       "    </tr>\n",
       "    <tr>\n",
       "      <th>2</th>\n",
       "      <td>excellent flight Despite this being hour fligh...</td>\n",
       "    </tr>\n",
       "    <tr>\n",
       "      <th>3</th>\n",
       "      <td>recently traveled with British Airways mixed e...</td>\n",
       "    </tr>\n",
       "    <tr>\n",
       "      <th>4</th>\n",
       "      <td>family were booked leave London Hong Kong Augu...</td>\n",
       "    </tr>\n",
       "  </tbody>\n",
       "</table>\n",
       "</div>"
      ],
      "text/plain": [
       "                                     cleaned_reviews\n",
       "0  Verified Before flight forced ground staff che...\n",
       "1  British Airways best Outstanding service from ...\n",
       "2  excellent flight Despite this being hour fligh...\n",
       "3  recently traveled with British Airways mixed e...\n",
       "4  family were booked leave London Hong Kong Augu..."
      ]
     },
     "execution_count": 13,
     "metadata": {},
     "output_type": "execute_result"
    }
   ],
   "source": [
    "# Start by cleaning up the series\n",
    "reviews_data = df['reviews'].str.strip(\"✅ Trip Verified |\")\n",
    "\n",
    "corpus = []\n",
    "\n",
    "# Loop through each review\n",
    "for review in reviews_data:\n",
    "    # Perform string replacements directly on the review (which is a string)\n",
    "    review = review.replace('Trip Verified |', '')\n",
    "    review = review.replace('✅', '')\n",
    "    review = review.replace('|', '')\n",
    "    # Use regular expressions to remove short words (length <= 3)\n",
    "    review = re.sub(r'\\b\\w{1,3}\\b', '', review)\n",
    "    # Apply the punctuation removal function\n",
    "    review = remove_punctuations(review)\n",
    "    # Clean up extra spaces\n",
    "    review = \" \".join(review.split())\n",
    "    # Append the cleaned review to the corpus\n",
    "    corpus.append(review)\n",
    "\n",
    "# Convert the corpus into a DataFrame or use it further in your analysis\n",
    "corpus_df = pd.DataFrame(corpus, columns=['cleaned_reviews'])\n",
    "corpus_df.head()\n"
   ]
  },
  {
   "cell_type": "code",
   "execution_count": 15,
   "metadata": {},
   "outputs": [],
   "source": [
    "\n",
    "df['cleaned_reviews'] = corpus"
   ]
  },
  {
   "cell_type": "code",
   "execution_count": 16,
   "metadata": {},
   "outputs": [
    {
     "data": {
      "text/html": [
       "<div>\n",
       "<style scoped>\n",
       "    .dataframe tbody tr th:only-of-type {\n",
       "        vertical-align: middle;\n",
       "    }\n",
       "\n",
       "    .dataframe tbody tr th {\n",
       "        vertical-align: top;\n",
       "    }\n",
       "\n",
       "    .dataframe thead th {\n",
       "        text-align: right;\n",
       "    }\n",
       "</style>\n",
       "<table border=\"1\" class=\"dataframe\">\n",
       "  <thead>\n",
       "    <tr style=\"text-align: right;\">\n",
       "      <th></th>\n",
       "      <th>reviews</th>\n",
       "      <th>stars</th>\n",
       "      <th>date</th>\n",
       "      <th>country</th>\n",
       "      <th>verified</th>\n",
       "      <th>cleaned_reviews</th>\n",
       "    </tr>\n",
       "  </thead>\n",
       "  <tbody>\n",
       "    <tr>\n",
       "      <th>0</th>\n",
       "      <td>Not Verified | Before my flight, I was forced ...</td>\n",
       "      <td>5.0</td>\n",
       "      <td>15th August 2024</td>\n",
       "      <td>United Kingdom</td>\n",
       "      <td>False</td>\n",
       "      <td>Verified Before flight forced ground staff che...</td>\n",
       "    </tr>\n",
       "    <tr>\n",
       "      <th>1</th>\n",
       "      <td>✅ Trip Verified |   British Airways at its bes...</td>\n",
       "      <td>1.0</td>\n",
       "      <td>12th August 2024</td>\n",
       "      <td>United Kingdom</td>\n",
       "      <td>True</td>\n",
       "      <td>British Airways best Outstanding service from ...</td>\n",
       "    </tr>\n",
       "    <tr>\n",
       "      <th>2</th>\n",
       "      <td>✅ Trip Verified | An excellent flight! Despite...</td>\n",
       "      <td>8.0</td>\n",
       "      <td>12th August 2024</td>\n",
       "      <td>Lebanon</td>\n",
       "      <td>True</td>\n",
       "      <td>excellent flight Despite this being hour fligh...</td>\n",
       "    </tr>\n",
       "    <tr>\n",
       "      <th>3</th>\n",
       "      <td>✅ Trip Verified | I recently traveled with Bri...</td>\n",
       "      <td>8.0</td>\n",
       "      <td>11th August 2024</td>\n",
       "      <td>United States</td>\n",
       "      <td>True</td>\n",
       "      <td>recently traveled with British Airways mixed e...</td>\n",
       "    </tr>\n",
       "    <tr>\n",
       "      <th>4</th>\n",
       "      <td>✅ Trip Verified |   My family and I were booke...</td>\n",
       "      <td>3.0</td>\n",
       "      <td>9th August 2024</td>\n",
       "      <td>United Kingdom</td>\n",
       "      <td>True</td>\n",
       "      <td>family were booked leave London Hong Kong Augu...</td>\n",
       "    </tr>\n",
       "  </tbody>\n",
       "</table>\n",
       "</div>"
      ],
      "text/plain": [
       "                                             reviews  stars              date  \\\n",
       "0  Not Verified | Before my flight, I was forced ...    5.0  15th August 2024   \n",
       "1  ✅ Trip Verified |   British Airways at its bes...    1.0  12th August 2024   \n",
       "2  ✅ Trip Verified | An excellent flight! Despite...    8.0  12th August 2024   \n",
       "3  ✅ Trip Verified | I recently traveled with Bri...    8.0  11th August 2024   \n",
       "4  ✅ Trip Verified |   My family and I were booke...    3.0   9th August 2024   \n",
       "\n",
       "          country  verified                                    cleaned_reviews  \n",
       "0  United Kingdom     False  Verified Before flight forced ground staff che...  \n",
       "1  United Kingdom      True  British Airways best Outstanding service from ...  \n",
       "2         Lebanon      True  excellent flight Despite this being hour fligh...  \n",
       "3   United States      True  recently traveled with British Airways mixed e...  \n",
       "4  United Kingdom      True  family were booked leave London Hong Kong Augu...  "
      ]
     },
     "execution_count": 16,
     "metadata": {},
     "output_type": "execute_result"
    }
   ],
   "source": [
    "\n",
    "df.head()"
   ]
  },
  {
   "cell_type": "code",
   "execution_count": 17,
   "metadata": {},
   "outputs": [
    {
     "data": {
      "text/plain": [
       "reviews             object\n",
       "stars              float64\n",
       "date                object\n",
       "country             object\n",
       "verified              bool\n",
       "cleaned_reviews     object\n",
       "dtype: object"
      ]
     },
     "execution_count": 17,
     "metadata": {},
     "output_type": "execute_result"
    }
   ],
   "source": [
    "\n",
    "df.dtypes"
   ]
  },
  {
   "cell_type": "code",
   "execution_count": 19,
   "metadata": {},
   "outputs": [],
   "source": [
    "# Function to remove ordinal indicators (st, nd, rd, th) from the date string\n",
    "def remove_ordinal_indicators(date_str):\n",
    "    return re.sub(r'(\\d+)(st|nd|rd|th)', r'\\1', date_str)"
   ]
  },
  {
   "cell_type": "code",
   "execution_count": 20,
   "metadata": {},
   "outputs": [],
   "source": [
    "# Apply the function to the date column\n",
    "df['date'] = df['date'].apply(remove_ordinal_indicators)"
   ]
  },
  {
   "cell_type": "code",
   "execution_count": 21,
   "metadata": {},
   "outputs": [],
   "source": [
    "# convert the date to datetime format\n",
    "\n",
    "df.date = pd.to_datetime(df.date)"
   ]
  },
  {
   "cell_type": "code",
   "execution_count": 22,
   "metadata": {},
   "outputs": [
    {
     "data": {
      "text/plain": [
       "0   2024-08-15\n",
       "1   2024-08-12\n",
       "2   2024-08-12\n",
       "3   2024-08-11\n",
       "4   2024-08-09\n",
       "Name: date, dtype: datetime64[ns]"
      ]
     },
     "execution_count": 22,
     "metadata": {},
     "output_type": "execute_result"
    }
   ],
   "source": [
    "df.date.head()"
   ]
  },
  {
   "cell_type": "code",
   "execution_count": 23,
   "metadata": {},
   "outputs": [
    {
     "data": {
      "text/plain": [
       "array([ 5.,  1.,  8.,  3.,  2., 10.,  6.,  9.,  7.,  4., nan])"
      ]
     },
     "execution_count": 23,
     "metadata": {},
     "output_type": "execute_result"
    }
   ],
   "source": [
    "#check for unique values\n",
    "df.stars.unique()"
   ]
  },
  {
   "cell_type": "code",
   "execution_count": 24,
   "metadata": {},
   "outputs": [
    {
     "data": {
      "text/plain": [
       "stars\n",
       "1.0     862\n",
       "2.0     404\n",
       "3.0     402\n",
       "8.0     341\n",
       "10.0    286\n",
       "7.0     274\n",
       "9.0     272\n",
       "5.0     245\n",
       "4.0     238\n",
       "6.0     173\n",
       "Name: count, dtype: int64"
      ]
     },
     "execution_count": 24,
     "metadata": {},
     "output_type": "execute_result"
    }
   ],
   "source": [
    "\n",
    "df.stars.value_counts()"
   ]
  },
  {
   "cell_type": "code",
   "execution_count": 25,
   "metadata": {},
   "outputs": [
    {
     "data": {
      "text/plain": [
       "reviews  stars  date   country  verified  cleaned_reviews\n",
       "False    False  False  False    False     False              3496\n",
       "         True   False  False    False     False                 3\n",
       "         False  False  True     False     False                 1\n",
       "Name: count, dtype: int64"
      ]
     },
     "execution_count": 25,
     "metadata": {},
     "output_type": "execute_result"
    }
   ],
   "source": [
    "\n",
    "df.isnull().value_counts()"
   ]
  },
  {
   "cell_type": "code",
   "execution_count": 26,
   "metadata": {},
   "outputs": [
    {
     "data": {
      "text/plain": [
       "country\n",
       "False    3499\n",
       "True        1\n",
       "Name: count, dtype: int64"
      ]
     },
     "execution_count": 26,
     "metadata": {},
     "output_type": "execute_result"
    }
   ],
   "source": [
    "\n",
    "df.country.isnull().value_counts()"
   ]
  },
  {
   "cell_type": "code",
   "execution_count": 27,
   "metadata": {},
   "outputs": [],
   "source": [
    "#drop the rows using index where the country value is null\n",
    "df.drop(df[df.country.isnull() == True].index, axis=0, inplace=True)"
   ]
  },
  {
   "cell_type": "code",
   "execution_count": 28,
   "metadata": {},
   "outputs": [
    {
     "data": {
      "text/plain": [
       "(3499, 6)"
      ]
     },
     "execution_count": 28,
     "metadata": {},
     "output_type": "execute_result"
    }
   ],
   "source": [
    "\n",
    "df.shape"
   ]
  },
  {
   "cell_type": "code",
   "execution_count": 29,
   "metadata": {},
   "outputs": [
    {
     "data": {
      "text/html": [
       "<div>\n",
       "<style scoped>\n",
       "    .dataframe tbody tr th:only-of-type {\n",
       "        vertical-align: middle;\n",
       "    }\n",
       "\n",
       "    .dataframe tbody tr th {\n",
       "        vertical-align: top;\n",
       "    }\n",
       "\n",
       "    .dataframe thead th {\n",
       "        text-align: right;\n",
       "    }\n",
       "</style>\n",
       "<table border=\"1\" class=\"dataframe\">\n",
       "  <thead>\n",
       "    <tr style=\"text-align: right;\">\n",
       "      <th></th>\n",
       "      <th>reviews</th>\n",
       "      <th>stars</th>\n",
       "      <th>date</th>\n",
       "      <th>country</th>\n",
       "      <th>verified</th>\n",
       "      <th>cleaned_reviews</th>\n",
       "    </tr>\n",
       "  </thead>\n",
       "  <tbody>\n",
       "    <tr>\n",
       "      <th>0</th>\n",
       "      <td>Not Verified | Before my flight, I was forced ...</td>\n",
       "      <td>5.0</td>\n",
       "      <td>2024-08-15</td>\n",
       "      <td>United Kingdom</td>\n",
       "      <td>False</td>\n",
       "      <td>Verified Before flight forced ground staff che...</td>\n",
       "    </tr>\n",
       "    <tr>\n",
       "      <th>1</th>\n",
       "      <td>✅ Trip Verified |   British Airways at its bes...</td>\n",
       "      <td>1.0</td>\n",
       "      <td>2024-08-12</td>\n",
       "      <td>United Kingdom</td>\n",
       "      <td>True</td>\n",
       "      <td>British Airways best Outstanding service from ...</td>\n",
       "    </tr>\n",
       "    <tr>\n",
       "      <th>2</th>\n",
       "      <td>✅ Trip Verified | An excellent flight! Despite...</td>\n",
       "      <td>8.0</td>\n",
       "      <td>2024-08-12</td>\n",
       "      <td>Lebanon</td>\n",
       "      <td>True</td>\n",
       "      <td>excellent flight Despite this being hour fligh...</td>\n",
       "    </tr>\n",
       "    <tr>\n",
       "      <th>3</th>\n",
       "      <td>✅ Trip Verified | I recently traveled with Bri...</td>\n",
       "      <td>8.0</td>\n",
       "      <td>2024-08-11</td>\n",
       "      <td>United States</td>\n",
       "      <td>True</td>\n",
       "      <td>recently traveled with British Airways mixed e...</td>\n",
       "    </tr>\n",
       "    <tr>\n",
       "      <th>4</th>\n",
       "      <td>✅ Trip Verified |   My family and I were booke...</td>\n",
       "      <td>3.0</td>\n",
       "      <td>2024-08-09</td>\n",
       "      <td>United Kingdom</td>\n",
       "      <td>True</td>\n",
       "      <td>family were booked leave London Hong Kong Augu...</td>\n",
       "    </tr>\n",
       "    <tr>\n",
       "      <th>...</th>\n",
       "      <td>...</td>\n",
       "      <td>...</td>\n",
       "      <td>...</td>\n",
       "      <td>...</td>\n",
       "      <td>...</td>\n",
       "      <td>...</td>\n",
       "    </tr>\n",
       "    <tr>\n",
       "      <th>3494</th>\n",
       "      <td>I fly the POS to LGW route on a fairly regular...</td>\n",
       "      <td>1.0</td>\n",
       "      <td>2014-10-22</td>\n",
       "      <td>Trinidad &amp; Tobago</td>\n",
       "      <td>False</td>\n",
       "      <td>route fairly regular basis punctuality flight ...</td>\n",
       "    </tr>\n",
       "    <tr>\n",
       "      <th>3495</th>\n",
       "      <td>LGW-AGP and back. 737-400s on both journeys. T...</td>\n",
       "      <td>4.0</td>\n",
       "      <td>2014-10-22</td>\n",
       "      <td>United Kingdom</td>\n",
       "      <td>False</td>\n",
       "      <td>back 400s both journeys These aircraft looking...</td>\n",
       "    </tr>\n",
       "    <tr>\n",
       "      <th>3496</th>\n",
       "      <td>Aberdeen-Heathrow-Miami and return World Trave...</td>\n",
       "      <td>3.0</td>\n",
       "      <td>2014-10-20</td>\n",
       "      <td>United Kingdom</td>\n",
       "      <td>False</td>\n",
       "      <td>AberdeenHeathrowMiami return World Traveller P...</td>\n",
       "    </tr>\n",
       "    <tr>\n",
       "      <th>3497</th>\n",
       "      <td>LHR-DEN DEN-LHR - always use upper class in VA...</td>\n",
       "      <td>8.0</td>\n",
       "      <td>2014-10-20</td>\n",
       "      <td>United Kingdom</td>\n",
       "      <td>False</td>\n",
       "      <td>always upper class when This flight reminded j...</td>\n",
       "    </tr>\n",
       "    <tr>\n",
       "      <th>3498</th>\n",
       "      <td>I flew one way MCO-LGW 6th October the service...</td>\n",
       "      <td>3.0</td>\n",
       "      <td>2014-10-20</td>\n",
       "      <td>United Kingdom</td>\n",
       "      <td>False</td>\n",
       "      <td>flew October service aircraft overall product ...</td>\n",
       "    </tr>\n",
       "  </tbody>\n",
       "</table>\n",
       "<p>3499 rows × 6 columns</p>\n",
       "</div>"
      ],
      "text/plain": [
       "                                                reviews  stars       date  \\\n",
       "0     Not Verified | Before my flight, I was forced ...    5.0 2024-08-15   \n",
       "1     ✅ Trip Verified |   British Airways at its bes...    1.0 2024-08-12   \n",
       "2     ✅ Trip Verified | An excellent flight! Despite...    8.0 2024-08-12   \n",
       "3     ✅ Trip Verified | I recently traveled with Bri...    8.0 2024-08-11   \n",
       "4     ✅ Trip Verified |   My family and I were booke...    3.0 2024-08-09   \n",
       "...                                                 ...    ...        ...   \n",
       "3494  I fly the POS to LGW route on a fairly regular...    1.0 2014-10-22   \n",
       "3495  LGW-AGP and back. 737-400s on both journeys. T...    4.0 2014-10-22   \n",
       "3496  Aberdeen-Heathrow-Miami and return World Trave...    3.0 2014-10-20   \n",
       "3497  LHR-DEN DEN-LHR - always use upper class in VA...    8.0 2014-10-20   \n",
       "3498  I flew one way MCO-LGW 6th October the service...    3.0 2014-10-20   \n",
       "\n",
       "                country  verified  \\\n",
       "0        United Kingdom     False   \n",
       "1        United Kingdom      True   \n",
       "2               Lebanon      True   \n",
       "3         United States      True   \n",
       "4        United Kingdom      True   \n",
       "...                 ...       ...   \n",
       "3494  Trinidad & Tobago     False   \n",
       "3495     United Kingdom     False   \n",
       "3496     United Kingdom     False   \n",
       "3497     United Kingdom     False   \n",
       "3498     United Kingdom     False   \n",
       "\n",
       "                                        cleaned_reviews  \n",
       "0     Verified Before flight forced ground staff che...  \n",
       "1     British Airways best Outstanding service from ...  \n",
       "2     excellent flight Despite this being hour fligh...  \n",
       "3     recently traveled with British Airways mixed e...  \n",
       "4     family were booked leave London Hong Kong Augu...  \n",
       "...                                                 ...  \n",
       "3494  route fairly regular basis punctuality flight ...  \n",
       "3495  back 400s both journeys These aircraft looking...  \n",
       "3496  AberdeenHeathrowMiami return World Traveller P...  \n",
       "3497  always upper class when This flight reminded j...  \n",
       "3498  flew October service aircraft overall product ...  \n",
       "\n",
       "[3499 rows x 6 columns]"
      ]
     },
     "execution_count": 29,
     "metadata": {},
     "output_type": "execute_result"
    }
   ],
   "source": [
    "\n",
    "#resetting the index\n",
    "df.reset_index(drop=True)"
   ]
  },
  {
   "cell_type": "code",
   "execution_count": 30,
   "metadata": {},
   "outputs": [],
   "source": [
    "\n",
    "# export the cleaned data\n",
    "\n",
    "df.to_csv(\"cleaned-BA-reviews.csv\")"
   ]
  },
  {
   "cell_type": "code",
   "execution_count": null,
   "metadata": {},
   "outputs": [],
   "source": []
  }
 ],
 "metadata": {
  "kernelspec": {
   "display_name": "myenv",
   "language": "python",
   "name": "python3"
  },
  "language_info": {
   "codemirror_mode": {
    "name": "ipython",
    "version": 3
   },
   "file_extension": ".py",
   "mimetype": "text/x-python",
   "name": "python",
   "nbconvert_exporter": "python",
   "pygments_lexer": "ipython3",
   "version": "3.12.5"
  }
 },
 "nbformat": 4,
 "nbformat_minor": 2
}
